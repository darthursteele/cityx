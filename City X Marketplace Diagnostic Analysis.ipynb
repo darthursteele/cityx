{
 "cells": [
  {
   "cell_type": "markdown",
   "metadata": {},
   "source": [
    "# Uber Marketplace City X Challenge\n",
    "\n",
    "## Goals\n",
    "Choose one:\n",
    "<ol>\n",
    "<li>Investigate whether Drivers are adequately notified about the city's demand in certain geographic areas at certain times. Present a strategy to address the challenge.\n",
    "<li>Investigate the financial effectiveness of rider discount promotions. Present a strategy to identify current issues and improve the cost effectiveness of the rider promotions.\n",
    "</ol>\n",
    "\n",
    "## Deliverables\n",
    "\n",
    "<ol>\n",
    "<li>An educated, data-driven view on the potential issue\n",
    "<li>A A/B test design to evalue a hypothesis or test a solution\n",
    "<li>Recommended next steps and other factors to consider\n",
    "</ol>\n",
    "\n",
    "## Evaluation criteria\n",
    "\n",
    "<ul>\n",
    "<li>data cleaning, aggregation, and analysis\n",
    "<li>identification of key patterns and trends\n",
    "<li>strong and relevant experiment design\n",
    "<li>recommendations including actionable next steps\n",
    "<li>acknowledgement of other factors or considerations\n",
    "</ul>\n",
    "\n",
    "# TODO List\n",
    "\n",
    "<ul>\n",
    "<li>Calculate by-hour statistics for each of the four geos to add to city table\n",
    "<li>Look at requests vs trips vs. hour by geo\n",
    "<li>Look into the gap between requests and trips by trip status: rider_canceled vs. unfulfilled\n",
    "<li>Look into why riders canceled: did they eventually successfully book a trip right after canceling, or is there a correlation between wait time and cancelation rate?\n",
    "<li>Group trips by driver_id and estimate the trip time by time between pickup and next request time, for times when demand is high (completed trips < trips requested)\n",
    "</ul>\n",
    "\n",
    "## Odd Stuff\n",
    "\n",
    "<ul>\n",
    "<li>Trip ID 94a1-82d8: there four such trips (trips.index.value_counts())\n",
    "<li>riders.describe() shows the maximum lifetime payments as $139k and over 16k trips. who could do that many trips in a lifetime?\n",
    "<li>similar situation with the driver info\n",
    "<li>missing est. time to arrival in some 2501 rider trips (about 10% of the total number of trips)\n",
    "</ul>"
   ]
  },
  {
   "cell_type": "code",
   "execution_count": 1,
   "metadata": {
    "collapsed": true
   },
   "outputs": [],
   "source": [
    "import pandas as pd\n",
    "import math\n",
    "import numpy as np\n",
    "import datetime as dt\n",
    "import matplotlib.pyplot as plt\n",
    "%matplotlib inline"
   ]
  },
  {
   "cell_type": "code",
   "execution_count": 2,
   "metadata": {
    "collapsed": true
   },
   "outputs": [],
   "source": [
    "d_trips = pd.read_html(\"driver_trips.html\", header=1, index_col='trip_id')[0] "
   ]
  },
  {
   "cell_type": "code",
   "execution_count": 3,
   "metadata": {
    "collapsed": true
   },
   "outputs": [],
   "source": [
    "r_trips = pd.read_html(\"rider_trips.html\", header=1, index_col='trip_id')[0]"
   ]
  },
  {
   "cell_type": "code",
   "execution_count": 4,
   "metadata": {
    "collapsed": true
   },
   "outputs": [],
   "source": [
    "city = pd.read_html(\"city_metrics.html\", header=1, index_col='timestamp')[0]\n",
    "drivers = pd.read_html(\"driver_data.html\", header=1, index_col='driver_id')[0]\n",
    "riders = pd.read_html(\"rider_data.html\", header=1, index_col='rider_id')[0]"
   ]
  },
  {
   "cell_type": "code",
   "execution_count": 5,
   "metadata": {
    "collapsed": true
   },
   "outputs": [],
   "source": [
    "d_trips.drop(columns=\"1\", inplace=True)\n",
    "r_trips.drop(columns=\"1\", inplace=True)\n",
    "city.drop(columns=\"1\", inplace=True)\n",
    "drivers.drop(columns=\"1\", inplace=True)\n",
    "riders.drop(columns=\"1\", inplace=True)"
   ]
  },
  {
   "cell_type": "code",
   "execution_count": 6,
   "metadata": {},
   "outputs": [
    {
     "data": {
      "text/html": [
       "<div>\n",
       "<style scoped>\n",
       "    .dataframe tbody tr th:only-of-type {\n",
       "        vertical-align: middle;\n",
       "    }\n",
       "\n",
       "    .dataframe tbody tr th {\n",
       "        vertical-align: top;\n",
       "    }\n",
       "\n",
       "    .dataframe thead th {\n",
       "        text-align: right;\n",
       "    }\n",
       "</style>\n",
       "<table border=\"1\" class=\"dataframe\">\n",
       "  <thead>\n",
       "    <tr style=\"text-align: right;\">\n",
       "      <th></th>\n",
       "      <th>requests</th>\n",
       "      <th>trips</th>\n",
       "      <th>supply_hours</th>\n",
       "      <th>mean_surge_multipler</th>\n",
       "    </tr>\n",
       "    <tr>\n",
       "      <th>timestamp</th>\n",
       "      <th></th>\n",
       "      <th></th>\n",
       "      <th></th>\n",
       "      <th></th>\n",
       "    </tr>\n",
       "  </thead>\n",
       "  <tbody>\n",
       "    <tr>\n",
       "      <th>4/9/12 12:00 AM</th>\n",
       "      <td>42</td>\n",
       "      <td>35</td>\n",
       "      <td>19.5</td>\n",
       "      <td>1.08</td>\n",
       "    </tr>\n",
       "    <tr>\n",
       "      <th>4/9/12 1:00 AM</th>\n",
       "      <td>19</td>\n",
       "      <td>15</td>\n",
       "      <td>11.5</td>\n",
       "      <td>1.00</td>\n",
       "    </tr>\n",
       "    <tr>\n",
       "      <th>4/9/12 2:00 AM</th>\n",
       "      <td>17</td>\n",
       "      <td>14</td>\n",
       "      <td>11.1</td>\n",
       "      <td>1.01</td>\n",
       "    </tr>\n",
       "    <tr>\n",
       "      <th>4/9/12 3:00 AM</th>\n",
       "      <td>7</td>\n",
       "      <td>5</td>\n",
       "      <td>3.7</td>\n",
       "      <td>1.03</td>\n",
       "    </tr>\n",
       "    <tr>\n",
       "      <th>4/9/12 4:00 AM</th>\n",
       "      <td>11</td>\n",
       "      <td>8</td>\n",
       "      <td>4.5</td>\n",
       "      <td>1.28</td>\n",
       "    </tr>\n",
       "  </tbody>\n",
       "</table>\n",
       "</div>"
      ],
      "text/plain": [
       "                 requests  trips  supply_hours  mean_surge_multipler\n",
       "timestamp                                                           \n",
       "4/9/12 12:00 AM        42     35          19.5                  1.08\n",
       "4/9/12 1:00 AM         19     15          11.5                  1.00\n",
       "4/9/12 2:00 AM         17     14          11.1                  1.01\n",
       "4/9/12 3:00 AM          7      5           3.7                  1.03\n",
       "4/9/12 4:00 AM         11      8           4.5                  1.28"
      ]
     },
     "execution_count": 6,
     "metadata": {},
     "output_type": "execute_result"
    }
   ],
   "source": [
    "city.head()"
   ]
  },
  {
   "cell_type": "code",
   "execution_count": 7,
   "metadata": {},
   "outputs": [
    {
     "data": {
      "text/html": [
       "<div>\n",
       "<style scoped>\n",
       "    .dataframe tbody tr th:only-of-type {\n",
       "        vertical-align: middle;\n",
       "    }\n",
       "\n",
       "    .dataframe tbody tr th {\n",
       "        vertical-align: top;\n",
       "    }\n",
       "\n",
       "    .dataframe thead th {\n",
       "        text-align: right;\n",
       "    }\n",
       "</style>\n",
       "<table border=\"1\" class=\"dataframe\">\n",
       "  <thead>\n",
       "    <tr style=\"text-align: right;\">\n",
       "      <th></th>\n",
       "      <th>first_completed_trip</th>\n",
       "      <th>lifetime_rating</th>\n",
       "      <th>lifetime_fares</th>\n",
       "      <th>lifetime_completed_trips</th>\n",
       "    </tr>\n",
       "    <tr>\n",
       "      <th>driver_id</th>\n",
       "      <th></th>\n",
       "      <th></th>\n",
       "      <th></th>\n",
       "      <th></th>\n",
       "    </tr>\n",
       "  </thead>\n",
       "  <tbody>\n",
       "    <tr>\n",
       "      <th>48dc-c2db</th>\n",
       "      <td>11/18/2010</td>\n",
       "      <td>4.82</td>\n",
       "      <td>8038.10</td>\n",
       "      <td>877</td>\n",
       "    </tr>\n",
       "    <tr>\n",
       "      <th>49aa-b176</th>\n",
       "      <td>12/29/2011</td>\n",
       "      <td>4.79</td>\n",
       "      <td>9428.02</td>\n",
       "      <td>967</td>\n",
       "    </tr>\n",
       "    <tr>\n",
       "      <th>4332-47bc</th>\n",
       "      <td>8/13/2010</td>\n",
       "      <td>4.92</td>\n",
       "      <td>13578.02</td>\n",
       "      <td>1719</td>\n",
       "    </tr>\n",
       "    <tr>\n",
       "      <th>4004-efca</th>\n",
       "      <td>2/12/2012</td>\n",
       "      <td>4.41</td>\n",
       "      <td>2020.95</td>\n",
       "      <td>172</td>\n",
       "    </tr>\n",
       "    <tr>\n",
       "      <th>4efa-33c0</th>\n",
       "      <td>4/28/2011</td>\n",
       "      <td>4.61</td>\n",
       "      <td>15984.75</td>\n",
       "      <td>1755</td>\n",
       "    </tr>\n",
       "  </tbody>\n",
       "</table>\n",
       "</div>"
      ],
      "text/plain": [
       "          first_completed_trip  lifetime_rating  lifetime_fares  \\\n",
       "driver_id                                                         \n",
       "48dc-c2db           11/18/2010             4.82         8038.10   \n",
       "49aa-b176           12/29/2011             4.79         9428.02   \n",
       "4332-47bc            8/13/2010             4.92        13578.02   \n",
       "4004-efca            2/12/2012             4.41         2020.95   \n",
       "4efa-33c0            4/28/2011             4.61        15984.75   \n",
       "\n",
       "           lifetime_completed_trips  \n",
       "driver_id                            \n",
       "48dc-c2db                       877  \n",
       "49aa-b176                       967  \n",
       "4332-47bc                      1719  \n",
       "4004-efca                       172  \n",
       "4efa-33c0                      1755  "
      ]
     },
     "execution_count": 7,
     "metadata": {},
     "output_type": "execute_result"
    }
   ],
   "source": [
    "drivers.head()"
   ]
  },
  {
   "cell_type": "code",
   "execution_count": 8,
   "metadata": {},
   "outputs": [
    {
     "data": {
      "text/html": [
       "<div>\n",
       "<style scoped>\n",
       "    .dataframe tbody tr th:only-of-type {\n",
       "        vertical-align: middle;\n",
       "    }\n",
       "\n",
       "    .dataframe tbody tr th {\n",
       "        vertical-align: top;\n",
       "    }\n",
       "\n",
       "    .dataframe thead th {\n",
       "        text-align: right;\n",
       "    }\n",
       "</style>\n",
       "<table border=\"1\" class=\"dataframe\">\n",
       "  <thead>\n",
       "    <tr style=\"text-align: right;\">\n",
       "      <th></th>\n",
       "      <th>first_completed_trip</th>\n",
       "      <th>lifetime_trips</th>\n",
       "      <th>first_trip_city_id</th>\n",
       "      <th>lifetime_payments</th>\n",
       "    </tr>\n",
       "    <tr>\n",
       "      <th>rider_id</th>\n",
       "      <th></th>\n",
       "      <th></th>\n",
       "      <th></th>\n",
       "      <th></th>\n",
       "    </tr>\n",
       "  </thead>\n",
       "  <tbody>\n",
       "    <tr>\n",
       "      <th>040b-9e6e</th>\n",
       "      <td>2/28/2009</td>\n",
       "      <td>112.0</td>\n",
       "      <td>1020</td>\n",
       "      <td>3106.19</td>\n",
       "    </tr>\n",
       "    <tr>\n",
       "      <th>75cc-bc9e</th>\n",
       "      <td>4/21/2011</td>\n",
       "      <td>216.0</td>\n",
       "      <td>1020</td>\n",
       "      <td>1698.55</td>\n",
       "    </tr>\n",
       "    <tr>\n",
       "      <th>7b3b-5562</th>\n",
       "      <td>3/25/2010</td>\n",
       "      <td>188.0</td>\n",
       "      <td>1024</td>\n",
       "      <td>2101.36</td>\n",
       "    </tr>\n",
       "    <tr>\n",
       "      <th>a251-1bd5</th>\n",
       "      <td>9/8/2009</td>\n",
       "      <td>60.0</td>\n",
       "      <td>1032</td>\n",
       "      <td>683.39</td>\n",
       "    </tr>\n",
       "    <tr>\n",
       "      <th>1276-3268</th>\n",
       "      <td>11/5/2011</td>\n",
       "      <td>376.0</td>\n",
       "      <td>1032</td>\n",
       "      <td>2895.98</td>\n",
       "    </tr>\n",
       "  </tbody>\n",
       "</table>\n",
       "</div>"
      ],
      "text/plain": [
       "          first_completed_trip  lifetime_trips  first_trip_city_id  \\\n",
       "rider_id                                                             \n",
       "040b-9e6e            2/28/2009           112.0                1020   \n",
       "75cc-bc9e            4/21/2011           216.0                1020   \n",
       "7b3b-5562            3/25/2010           188.0                1024   \n",
       "a251-1bd5             9/8/2009            60.0                1032   \n",
       "1276-3268            11/5/2011           376.0                1032   \n",
       "\n",
       "           lifetime_payments  \n",
       "rider_id                      \n",
       "040b-9e6e            3106.19  \n",
       "75cc-bc9e            1698.55  \n",
       "7b3b-5562            2101.36  \n",
       "a251-1bd5             683.39  \n",
       "1276-3268            2895.98  "
      ]
     },
     "execution_count": 8,
     "metadata": {},
     "output_type": "execute_result"
    }
   ],
   "source": [
    "riders.head()"
   ]
  },
  {
   "cell_type": "code",
   "execution_count": 9,
   "metadata": {},
   "outputs": [
    {
     "data": {
      "text/html": [
       "<div>\n",
       "<style scoped>\n",
       "    .dataframe tbody tr th:only-of-type {\n",
       "        vertical-align: middle;\n",
       "    }\n",
       "\n",
       "    .dataframe tbody tr th {\n",
       "        vertical-align: top;\n",
       "    }\n",
       "\n",
       "    .dataframe thead th {\n",
       "        text-align: right;\n",
       "    }\n",
       "</style>\n",
       "<table border=\"1\" class=\"dataframe\">\n",
       "  <thead>\n",
       "    <tr style=\"text-align: right;\">\n",
       "      <th></th>\n",
       "      <th>driver_id</th>\n",
       "      <th>trip_status</th>\n",
       "      <th>actual_time_to_arrival</th>\n",
       "      <th>request_time</th>\n",
       "      <th>surge_multiplier</th>\n",
       "      <th>driver payout</th>\n",
       "      <th>start_geo</th>\n",
       "      <th>end_geo</th>\n",
       "    </tr>\n",
       "    <tr>\n",
       "      <th>trip_id</th>\n",
       "      <th></th>\n",
       "      <th></th>\n",
       "      <th></th>\n",
       "      <th></th>\n",
       "      <th></th>\n",
       "      <th></th>\n",
       "      <th></th>\n",
       "      <th></th>\n",
       "    </tr>\n",
       "  </thead>\n",
       "  <tbody>\n",
       "    <tr>\n",
       "      <th>b3cb-b9bf</th>\n",
       "      <td>4649-2f0a</td>\n",
       "      <td>completed</td>\n",
       "      <td>3.52</td>\n",
       "      <td>4/9/12 6:12</td>\n",
       "      <td>1.0</td>\n",
       "      <td>4.24</td>\n",
       "      <td>Allen Abby</td>\n",
       "      <td>Chelsea Court</td>\n",
       "    </tr>\n",
       "    <tr>\n",
       "      <th>8569-0fbf</th>\n",
       "      <td>4003-e2e7</td>\n",
       "      <td>completed</td>\n",
       "      <td>2.63</td>\n",
       "      <td>5/6/12 5:44</td>\n",
       "      <td>2.0</td>\n",
       "      <td>8.24</td>\n",
       "      <td>Blair Bend</td>\n",
       "      <td>Chelsea Court</td>\n",
       "    </tr>\n",
       "    <tr>\n",
       "      <th>86f2-e4cc</th>\n",
       "      <td>44af-7b74</td>\n",
       "      <td>completed</td>\n",
       "      <td>1.33</td>\n",
       "      <td>4/25/12 11:28</td>\n",
       "      <td>1.0</td>\n",
       "      <td>6.20</td>\n",
       "      <td>Chelsea Court</td>\n",
       "      <td>Blair Bend</td>\n",
       "    </tr>\n",
       "    <tr>\n",
       "      <th>aef6-924e</th>\n",
       "      <td>4909-aa90</td>\n",
       "      <td>completed</td>\n",
       "      <td>1.70</td>\n",
       "      <td>4/27/12 21:34</td>\n",
       "      <td>1.0</td>\n",
       "      <td>8.19</td>\n",
       "      <td>Chelsea Court</td>\n",
       "      <td>Daisy Drive</td>\n",
       "    </tr>\n",
       "    <tr>\n",
       "      <th>921a-11d3</th>\n",
       "      <td>4e79-a40f</td>\n",
       "      <td>completed</td>\n",
       "      <td>NaN</td>\n",
       "      <td>4/30/12 16:44</td>\n",
       "      <td>1.0</td>\n",
       "      <td>11.81</td>\n",
       "      <td>Daisy Drive</td>\n",
       "      <td>Daisy Drive</td>\n",
       "    </tr>\n",
       "  </tbody>\n",
       "</table>\n",
       "</div>"
      ],
      "text/plain": [
       "           driver_id trip_status  actual_time_to_arrival   request_time  \\\n",
       "trip_id                                                                   \n",
       "b3cb-b9bf  4649-2f0a   completed                    3.52    4/9/12 6:12   \n",
       "8569-0fbf  4003-e2e7   completed                    2.63    5/6/12 5:44   \n",
       "86f2-e4cc  44af-7b74   completed                    1.33  4/25/12 11:28   \n",
       "aef6-924e  4909-aa90   completed                    1.70  4/27/12 21:34   \n",
       "921a-11d3  4e79-a40f   completed                     NaN  4/30/12 16:44   \n",
       "\n",
       "           surge_multiplier  driver payout      start_geo        end_geo  \n",
       "trip_id                                                                   \n",
       "b3cb-b9bf               1.0           4.24     Allen Abby  Chelsea Court  \n",
       "8569-0fbf               2.0           8.24     Blair Bend  Chelsea Court  \n",
       "86f2-e4cc               1.0           6.20  Chelsea Court     Blair Bend  \n",
       "aef6-924e               1.0           8.19  Chelsea Court    Daisy Drive  \n",
       "921a-11d3               1.0          11.81    Daisy Drive    Daisy Drive  "
      ]
     },
     "execution_count": 9,
     "metadata": {},
     "output_type": "execute_result"
    }
   ],
   "source": [
    "d_trips.head()"
   ]
  },
  {
   "cell_type": "code",
   "execution_count": 10,
   "metadata": {},
   "outputs": [
    {
     "data": {
      "text/html": [
       "<div>\n",
       "<style scoped>\n",
       "    .dataframe tbody tr th:only-of-type {\n",
       "        vertical-align: middle;\n",
       "    }\n",
       "\n",
       "    .dataframe tbody tr th {\n",
       "        vertical-align: top;\n",
       "    }\n",
       "\n",
       "    .dataframe thead th {\n",
       "        text-align: right;\n",
       "    }\n",
       "</style>\n",
       "<table border=\"1\" class=\"dataframe\">\n",
       "  <thead>\n",
       "    <tr style=\"text-align: right;\">\n",
       "      <th></th>\n",
       "      <th>rider_id</th>\n",
       "      <th>trip_status</th>\n",
       "      <th>estimated_time_to_arrival</th>\n",
       "      <th>request_time</th>\n",
       "      <th>surge_multiplier</th>\n",
       "      <th>trip_price_pre_discount</th>\n",
       "      <th>rider_payment</th>\n",
       "      <th>start_geo</th>\n",
       "      <th>end_geo</th>\n",
       "    </tr>\n",
       "    <tr>\n",
       "      <th>trip_id</th>\n",
       "      <th></th>\n",
       "      <th></th>\n",
       "      <th></th>\n",
       "      <th></th>\n",
       "      <th></th>\n",
       "      <th></th>\n",
       "      <th></th>\n",
       "      <th></th>\n",
       "      <th></th>\n",
       "    </tr>\n",
       "  </thead>\n",
       "  <tbody>\n",
       "    <tr>\n",
       "      <th>b3cb-b9bf</th>\n",
       "      <td>5ba9-cd29</td>\n",
       "      <td>completed</td>\n",
       "      <td>4.48</td>\n",
       "      <td>4/9/12 6:12</td>\n",
       "      <td>1.0</td>\n",
       "      <td>5.296</td>\n",
       "      <td>5.296</td>\n",
       "      <td>Allen Abby</td>\n",
       "      <td>Chelsea Court</td>\n",
       "    </tr>\n",
       "    <tr>\n",
       "      <th>8569-0fbf</th>\n",
       "      <td>b8ed-f739</td>\n",
       "      <td>completed</td>\n",
       "      <td>4.68</td>\n",
       "      <td>5/6/12 5:44</td>\n",
       "      <td>2.0</td>\n",
       "      <td>10.304</td>\n",
       "      <td>10.304</td>\n",
       "      <td>Blair Bend</td>\n",
       "      <td>Chelsea Court</td>\n",
       "    </tr>\n",
       "    <tr>\n",
       "      <th>86f2-e4cc</th>\n",
       "      <td>a12d-275f</td>\n",
       "      <td>completed</td>\n",
       "      <td>1.98</td>\n",
       "      <td>4/25/12 11:28</td>\n",
       "      <td>1.0</td>\n",
       "      <td>7.744</td>\n",
       "      <td>7.744</td>\n",
       "      <td>Chelsea Court</td>\n",
       "      <td>Blair Bend</td>\n",
       "    </tr>\n",
       "    <tr>\n",
       "      <th>aef6-924e</th>\n",
       "      <td>14af-2a91</td>\n",
       "      <td>completed</td>\n",
       "      <td>2.75</td>\n",
       "      <td>4/27/12 21:34</td>\n",
       "      <td>1.0</td>\n",
       "      <td>10.232</td>\n",
       "      <td>10.232</td>\n",
       "      <td>Chelsea Court</td>\n",
       "      <td>Daisy Drive</td>\n",
       "    </tr>\n",
       "    <tr>\n",
       "      <th>921a-11d3</th>\n",
       "      <td>a0b5-fbfc</td>\n",
       "      <td>completed</td>\n",
       "      <td>NaN</td>\n",
       "      <td>4/30/12 16:44</td>\n",
       "      <td>1.0</td>\n",
       "      <td>14.760</td>\n",
       "      <td>14.760</td>\n",
       "      <td>Daisy Drive</td>\n",
       "      <td>Daisy Drive</td>\n",
       "    </tr>\n",
       "  </tbody>\n",
       "</table>\n",
       "</div>"
      ],
      "text/plain": [
       "            rider_id trip_status  estimated_time_to_arrival   request_time  \\\n",
       "trip_id                                                                      \n",
       "b3cb-b9bf  5ba9-cd29   completed                       4.48    4/9/12 6:12   \n",
       "8569-0fbf  b8ed-f739   completed                       4.68    5/6/12 5:44   \n",
       "86f2-e4cc  a12d-275f   completed                       1.98  4/25/12 11:28   \n",
       "aef6-924e  14af-2a91   completed                       2.75  4/27/12 21:34   \n",
       "921a-11d3  a0b5-fbfc   completed                        NaN  4/30/12 16:44   \n",
       "\n",
       "           surge_multiplier  trip_price_pre_discount  rider_payment  \\\n",
       "trip_id                                                               \n",
       "b3cb-b9bf               1.0                    5.296          5.296   \n",
       "8569-0fbf               2.0                   10.304         10.304   \n",
       "86f2-e4cc               1.0                    7.744          7.744   \n",
       "aef6-924e               1.0                   10.232         10.232   \n",
       "921a-11d3               1.0                   14.760         14.760   \n",
       "\n",
       "               start_geo        end_geo  \n",
       "trip_id                                  \n",
       "b3cb-b9bf     Allen Abby  Chelsea Court  \n",
       "8569-0fbf     Blair Bend  Chelsea Court  \n",
       "86f2-e4cc  Chelsea Court     Blair Bend  \n",
       "aef6-924e  Chelsea Court    Daisy Drive  \n",
       "921a-11d3    Daisy Drive    Daisy Drive  "
      ]
     },
     "execution_count": 10,
     "metadata": {},
     "output_type": "execute_result"
    }
   ],
   "source": [
    "r_trips.head()"
   ]
  },
  {
   "cell_type": "markdown",
   "metadata": {},
   "source": [
    "## City Demand and Driver Positioning\n",
    "\n",
    "The city GM observes disproportionate levels of surge pricing and higher ETAs in CC - sometimes 1-2 minutes higher than the city average - during rush hour. Also notes trip growth has been inconsistent in April and May. Question: could \"fixing\" CC rush hour help improve rider growth?\n",
    "\n",
    "Some possible indicators of non-optimal driver positioning could include:\n",
    "<ul>\n",
    "<li>surge multiplier disparity: key indicator of poor driver positioning. If surge is 1 or low in one geo and very high in another, drivers could be more optimally positioned. \n",
    "<li>fraction of rider cancellations: how does cancellation rate depend on wait time? Does it affect newer users more than established users\n",
    "<li>high estimated_times_to_arrival: could indicate poor positioning, but also could be caused by traffic congestion\n",
    "<li>fraction of trip requests unfulfilled: indicates lack of overall supply. Here, again, looking for disparities between regions would be more indicative of poor positioning, but statistics for unfulfilled trips could be limited\n",
    "</ul>"
   ]
  },
  {
   "cell_type": "code",
   "execution_count": 11,
   "metadata": {
    "collapsed": true
   },
   "outputs": [],
   "source": [
    "# Join the driver trips and rider trips tables on trip_id\n",
    "trips = r_trips.join(d_trips, how='outer', lsuffix='_d', rsuffix='_r')"
   ]
  },
  {
   "cell_type": "code",
   "execution_count": 12,
   "metadata": {
    "collapsed": true
   },
   "outputs": [],
   "source": [
    "dup_columns = [ c_name.replace(\"_r\", \"\") for c_name in trips.columns if \"_r\" in c_name ]"
   ]
  },
  {
   "cell_type": "code",
   "execution_count": 13,
   "metadata": {
    "collapsed": true
   },
   "outputs": [],
   "source": [
    "for c in dup_columns:\n",
    "    r_col = c + \"_r\"\n",
    "    d_col = c + \"_d\"\n",
    "    trips[c] = trips[r_col].where( ~trips[r_col].isnull(), trips[d_col] )\n",
    "    trips = trips.drop(columns=[r_col, d_col])"
   ]
  },
  {
   "cell_type": "code",
   "execution_count": 14,
   "metadata": {},
   "outputs": [
    {
     "data": {
      "text/html": [
       "<div>\n",
       "<style scoped>\n",
       "    .dataframe tbody tr th:only-of-type {\n",
       "        vertical-align: middle;\n",
       "    }\n",
       "\n",
       "    .dataframe tbody tr th {\n",
       "        vertical-align: top;\n",
       "    }\n",
       "\n",
       "    .dataframe thead th {\n",
       "        text-align: right;\n",
       "    }\n",
       "</style>\n",
       "<table border=\"1\" class=\"dataframe\">\n",
       "  <thead>\n",
       "    <tr style=\"text-align: right;\">\n",
       "      <th></th>\n",
       "      <th>rider_id</th>\n",
       "      <th>estimated_time_to_arrival</th>\n",
       "      <th>trip_price_pre_discount</th>\n",
       "      <th>rider_payment</th>\n",
       "      <th>driver_id</th>\n",
       "      <th>actual_time_to_arrival</th>\n",
       "      <th>driver payout</th>\n",
       "      <th>trip_status</th>\n",
       "      <th>request_time</th>\n",
       "      <th>surge_multiplier</th>\n",
       "      <th>start_geo</th>\n",
       "      <th>end_geo</th>\n",
       "    </tr>\n",
       "    <tr>\n",
       "      <th>trip_id</th>\n",
       "      <th></th>\n",
       "      <th></th>\n",
       "      <th></th>\n",
       "      <th></th>\n",
       "      <th></th>\n",
       "      <th></th>\n",
       "      <th></th>\n",
       "      <th></th>\n",
       "      <th></th>\n",
       "      <th></th>\n",
       "      <th></th>\n",
       "      <th></th>\n",
       "    </tr>\n",
       "  </thead>\n",
       "  <tbody>\n",
       "    <tr>\n",
       "      <th>8000-41de</th>\n",
       "      <td>fa46-a452</td>\n",
       "      <td>NaN</td>\n",
       "      <td>0.000</td>\n",
       "      <td>0.0000</td>\n",
       "      <td>4e79-a40f</td>\n",
       "      <td>NaN</td>\n",
       "      <td>0.00</td>\n",
       "      <td>unfulfilled</td>\n",
       "      <td>4/21/12 3:18</td>\n",
       "      <td>1.0</td>\n",
       "      <td>Chelsea Court</td>\n",
       "      <td>Chelsea Court</td>\n",
       "    </tr>\n",
       "    <tr>\n",
       "      <th>8000-50ca</th>\n",
       "      <td>991c-b9bb</td>\n",
       "      <td>3.50</td>\n",
       "      <td>6.104</td>\n",
       "      <td>5.4936</td>\n",
       "      <td>49c5-1b68</td>\n",
       "      <td>2.55</td>\n",
       "      <td>4.88</td>\n",
       "      <td>completed</td>\n",
       "      <td>4/23/12 12:17</td>\n",
       "      <td>1.2</td>\n",
       "      <td>Chelsea Court</td>\n",
       "      <td>Chelsea Court</td>\n",
       "    </tr>\n",
       "    <tr>\n",
       "      <th>8000-6095</th>\n",
       "      <td>be95-fe1e</td>\n",
       "      <td>6.73</td>\n",
       "      <td>6.696</td>\n",
       "      <td>6.6960</td>\n",
       "      <td>401a-3f3a</td>\n",
       "      <td>5.25</td>\n",
       "      <td>5.36</td>\n",
       "      <td>completed</td>\n",
       "      <td>4/20/12 9:58</td>\n",
       "      <td>1.0</td>\n",
       "      <td>Chelsea Court</td>\n",
       "      <td>Blair Bend</td>\n",
       "    </tr>\n",
       "    <tr>\n",
       "      <th>8000-6624</th>\n",
       "      <td>05f9-5087</td>\n",
       "      <td>0.93</td>\n",
       "      <td>6.368</td>\n",
       "      <td>6.3680</td>\n",
       "      <td>443a-6a1b</td>\n",
       "      <td>0.83</td>\n",
       "      <td>5.09</td>\n",
       "      <td>completed</td>\n",
       "      <td>4/19/12 8:40</td>\n",
       "      <td>1.0</td>\n",
       "      <td>Chelsea Court</td>\n",
       "      <td>Chelsea Court</td>\n",
       "    </tr>\n",
       "    <tr>\n",
       "      <th>8001-3911</th>\n",
       "      <td>317c-651d</td>\n",
       "      <td>0.70</td>\n",
       "      <td>6.504</td>\n",
       "      <td>6.5040</td>\n",
       "      <td>45a5-92ef</td>\n",
       "      <td>0.27</td>\n",
       "      <td>5.20</td>\n",
       "      <td>completed</td>\n",
       "      <td>5/6/12 21:51</td>\n",
       "      <td>1.3</td>\n",
       "      <td>Chelsea Court</td>\n",
       "      <td>Chelsea Court</td>\n",
       "    </tr>\n",
       "  </tbody>\n",
       "</table>\n",
       "</div>"
      ],
      "text/plain": [
       "            rider_id  estimated_time_to_arrival  trip_price_pre_discount  \\\n",
       "trip_id                                                                    \n",
       "8000-41de  fa46-a452                        NaN                    0.000   \n",
       "8000-50ca  991c-b9bb                       3.50                    6.104   \n",
       "8000-6095  be95-fe1e                       6.73                    6.696   \n",
       "8000-6624  05f9-5087                       0.93                    6.368   \n",
       "8001-3911  317c-651d                       0.70                    6.504   \n",
       "\n",
       "           rider_payment  driver_id  actual_time_to_arrival  driver payout  \\\n",
       "trip_id                                                                      \n",
       "8000-41de         0.0000  4e79-a40f                     NaN           0.00   \n",
       "8000-50ca         5.4936  49c5-1b68                    2.55           4.88   \n",
       "8000-6095         6.6960  401a-3f3a                    5.25           5.36   \n",
       "8000-6624         6.3680  443a-6a1b                    0.83           5.09   \n",
       "8001-3911         6.5040  45a5-92ef                    0.27           5.20   \n",
       "\n",
       "           trip_status   request_time  surge_multiplier      start_geo  \\\n",
       "trip_id                                                                  \n",
       "8000-41de  unfulfilled   4/21/12 3:18               1.0  Chelsea Court   \n",
       "8000-50ca    completed  4/23/12 12:17               1.2  Chelsea Court   \n",
       "8000-6095    completed   4/20/12 9:58               1.0  Chelsea Court   \n",
       "8000-6624    completed   4/19/12 8:40               1.0  Chelsea Court   \n",
       "8001-3911    completed   5/6/12 21:51               1.3  Chelsea Court   \n",
       "\n",
       "                 end_geo  \n",
       "trip_id                   \n",
       "8000-41de  Chelsea Court  \n",
       "8000-50ca  Chelsea Court  \n",
       "8000-6095     Blair Bend  \n",
       "8000-6624  Chelsea Court  \n",
       "8001-3911  Chelsea Court  "
      ]
     },
     "execution_count": 14,
     "metadata": {},
     "output_type": "execute_result"
    }
   ],
   "source": [
    "trips.head()"
   ]
  },
  {
   "cell_type": "code",
   "execution_count": 15,
   "metadata": {
    "collapsed": true
   },
   "outputs": [],
   "source": [
    "trips = trips.drop('94a1-82d8', axis=0)"
   ]
  },
  {
   "cell_type": "code",
   "execution_count": 16,
   "metadata": {
    "collapsed": true
   },
   "outputs": [],
   "source": [
    "trips['request_time'] = pd.to_datetime(trips['request_time'])"
   ]
  },
  {
   "cell_type": "code",
   "execution_count": 17,
   "metadata": {
    "collapsed": true
   },
   "outputs": [],
   "source": [
    "trips['dow'] = trips.request_time.dt.day_name()\n",
    "trips['date'] = trips.request_time.dt.date\n",
    "trips['hour'] = trips.request_time.dt.hour"
   ]
  },
  {
   "cell_type": "code",
   "execution_count": 20,
   "metadata": {},
   "outputs": [],
   "source": [
    "trips_by_hour_means = trips.groupby(['date', 'hour']).mean()\n",
    "trips_by_hour_counts = trips.groupby(['date', 'hour']).count()\n",
    "trips_by_hour_status = trips.groupby(['date', 'hour', 'trip_status']).count()"
   ]
  },
  {
   "cell_type": "code",
   "execution_count": 256,
   "metadata": {},
   "outputs": [
    {
     "data": {
      "text/html": [
       "<div>\n",
       "<style scoped>\n",
       "    .dataframe tbody tr th:only-of-type {\n",
       "        vertical-align: middle;\n",
       "    }\n",
       "\n",
       "    .dataframe tbody tr th {\n",
       "        vertical-align: top;\n",
       "    }\n",
       "\n",
       "    .dataframe thead th {\n",
       "        text-align: right;\n",
       "    }\n",
       "</style>\n",
       "<table border=\"1\" class=\"dataframe\">\n",
       "  <thead>\n",
       "    <tr style=\"text-align: right;\">\n",
       "      <th></th>\n",
       "      <th>rider_id</th>\n",
       "      <th>estimated_time_to_arrival</th>\n",
       "      <th>trip_price_pre_discount</th>\n",
       "      <th>rider_payment</th>\n",
       "      <th>driver_id</th>\n",
       "      <th>actual_time_to_arrival</th>\n",
       "      <th>driver payout</th>\n",
       "      <th>trip_status</th>\n",
       "      <th>request_time</th>\n",
       "      <th>surge_multiplier</th>\n",
       "      <th>start_geo</th>\n",
       "      <th>end_geo</th>\n",
       "      <th>dow</th>\n",
       "      <th>hour</th>\n",
       "      <th>date</th>\n",
       "      <th>is_rush_hour</th>\n",
       "    </tr>\n",
       "    <tr>\n",
       "      <th>trip_id</th>\n",
       "      <th></th>\n",
       "      <th></th>\n",
       "      <th></th>\n",
       "      <th></th>\n",
       "      <th></th>\n",
       "      <th></th>\n",
       "      <th></th>\n",
       "      <th></th>\n",
       "      <th></th>\n",
       "      <th></th>\n",
       "      <th></th>\n",
       "      <th></th>\n",
       "      <th></th>\n",
       "      <th></th>\n",
       "      <th></th>\n",
       "      <th></th>\n",
       "    </tr>\n",
       "  </thead>\n",
       "  <tbody>\n",
       "    <tr>\n",
       "      <th>8000-41de</th>\n",
       "      <td>fa46-a452</td>\n",
       "      <td>NaN</td>\n",
       "      <td>0.000</td>\n",
       "      <td>0.0000</td>\n",
       "      <td>4e79-a40f</td>\n",
       "      <td>NaN</td>\n",
       "      <td>0.00</td>\n",
       "      <td>unfulfilled</td>\n",
       "      <td>2012-04-21 03:18:00</td>\n",
       "      <td>1.0</td>\n",
       "      <td>Chelsea Court</td>\n",
       "      <td>Chelsea Court</td>\n",
       "      <td>Saturday</td>\n",
       "      <td>3</td>\n",
       "      <td>2012-04-21</td>\n",
       "      <td>False</td>\n",
       "    </tr>\n",
       "    <tr>\n",
       "      <th>8000-50ca</th>\n",
       "      <td>991c-b9bb</td>\n",
       "      <td>3.50</td>\n",
       "      <td>6.104</td>\n",
       "      <td>5.4936</td>\n",
       "      <td>49c5-1b68</td>\n",
       "      <td>2.55</td>\n",
       "      <td>4.88</td>\n",
       "      <td>completed</td>\n",
       "      <td>2012-04-23 12:17:00</td>\n",
       "      <td>1.2</td>\n",
       "      <td>Chelsea Court</td>\n",
       "      <td>Chelsea Court</td>\n",
       "      <td>Monday</td>\n",
       "      <td>12</td>\n",
       "      <td>2012-04-23</td>\n",
       "      <td>False</td>\n",
       "    </tr>\n",
       "    <tr>\n",
       "      <th>8000-6095</th>\n",
       "      <td>be95-fe1e</td>\n",
       "      <td>6.73</td>\n",
       "      <td>6.696</td>\n",
       "      <td>6.6960</td>\n",
       "      <td>401a-3f3a</td>\n",
       "      <td>5.25</td>\n",
       "      <td>5.36</td>\n",
       "      <td>completed</td>\n",
       "      <td>2012-04-20 09:58:00</td>\n",
       "      <td>1.0</td>\n",
       "      <td>Chelsea Court</td>\n",
       "      <td>Blair Bend</td>\n",
       "      <td>Friday</td>\n",
       "      <td>9</td>\n",
       "      <td>2012-04-20</td>\n",
       "      <td>False</td>\n",
       "    </tr>\n",
       "    <tr>\n",
       "      <th>8000-6624</th>\n",
       "      <td>05f9-5087</td>\n",
       "      <td>0.93</td>\n",
       "      <td>6.368</td>\n",
       "      <td>6.3680</td>\n",
       "      <td>443a-6a1b</td>\n",
       "      <td>0.83</td>\n",
       "      <td>5.09</td>\n",
       "      <td>completed</td>\n",
       "      <td>2012-04-19 08:40:00</td>\n",
       "      <td>1.0</td>\n",
       "      <td>Chelsea Court</td>\n",
       "      <td>Chelsea Court</td>\n",
       "      <td>Thursday</td>\n",
       "      <td>8</td>\n",
       "      <td>2012-04-19</td>\n",
       "      <td>False</td>\n",
       "    </tr>\n",
       "    <tr>\n",
       "      <th>8001-3911</th>\n",
       "      <td>317c-651d</td>\n",
       "      <td>0.70</td>\n",
       "      <td>6.504</td>\n",
       "      <td>6.5040</td>\n",
       "      <td>45a5-92ef</td>\n",
       "      <td>0.27</td>\n",
       "      <td>5.20</td>\n",
       "      <td>completed</td>\n",
       "      <td>2012-05-06 21:51:00</td>\n",
       "      <td>1.3</td>\n",
       "      <td>Chelsea Court</td>\n",
       "      <td>Chelsea Court</td>\n",
       "      <td>Sunday</td>\n",
       "      <td>21</td>\n",
       "      <td>2012-05-06</td>\n",
       "      <td>False</td>\n",
       "    </tr>\n",
       "  </tbody>\n",
       "</table>\n",
       "</div>"
      ],
      "text/plain": [
       "            rider_id  estimated_time_to_arrival  trip_price_pre_discount  \\\n",
       "trip_id                                                                    \n",
       "8000-41de  fa46-a452                        NaN                    0.000   \n",
       "8000-50ca  991c-b9bb                       3.50                    6.104   \n",
       "8000-6095  be95-fe1e                       6.73                    6.696   \n",
       "8000-6624  05f9-5087                       0.93                    6.368   \n",
       "8001-3911  317c-651d                       0.70                    6.504   \n",
       "\n",
       "           rider_payment  driver_id  actual_time_to_arrival  driver payout  \\\n",
       "trip_id                                                                      \n",
       "8000-41de         0.0000  4e79-a40f                     NaN           0.00   \n",
       "8000-50ca         5.4936  49c5-1b68                    2.55           4.88   \n",
       "8000-6095         6.6960  401a-3f3a                    5.25           5.36   \n",
       "8000-6624         6.3680  443a-6a1b                    0.83           5.09   \n",
       "8001-3911         6.5040  45a5-92ef                    0.27           5.20   \n",
       "\n",
       "           trip_status        request_time  surge_multiplier      start_geo  \\\n",
       "trip_id                                                                       \n",
       "8000-41de  unfulfilled 2012-04-21 03:18:00               1.0  Chelsea Court   \n",
       "8000-50ca    completed 2012-04-23 12:17:00               1.2  Chelsea Court   \n",
       "8000-6095    completed 2012-04-20 09:58:00               1.0  Chelsea Court   \n",
       "8000-6624    completed 2012-04-19 08:40:00               1.0  Chelsea Court   \n",
       "8001-3911    completed 2012-05-06 21:51:00               1.3  Chelsea Court   \n",
       "\n",
       "                 end_geo       dow  hour        date  is_rush_hour  \n",
       "trip_id                                                             \n",
       "8000-41de  Chelsea Court  Saturday     3  2012-04-21         False  \n",
       "8000-50ca  Chelsea Court    Monday    12  2012-04-23         False  \n",
       "8000-6095     Blair Bend    Friday     9  2012-04-20         False  \n",
       "8000-6624  Chelsea Court  Thursday     8  2012-04-19         False  \n",
       "8001-3911  Chelsea Court    Sunday    21  2012-05-06         False  "
      ]
     },
     "execution_count": 256,
     "metadata": {},
     "output_type": "execute_result"
    }
   ],
   "source": [
    "trips.head()"
   ]
  },
  {
   "cell_type": "code",
   "execution_count": null,
   "metadata": {
    "collapsed": true
   },
   "outputs": [],
   "source": []
  },
  {
   "cell_type": "markdown",
   "metadata": {},
   "source": [
    "## Exploring the city info table"
   ]
  },
  {
   "cell_type": "code",
   "execution_count": 110,
   "metadata": {
    "collapsed": true
   },
   "outputs": [],
   "source": [
    "city['datetime'] = pd.to_datetime(city.index)"
   ]
  },
  {
   "cell_type": "code",
   "execution_count": 119,
   "metadata": {
    "collapsed": true
   },
   "outputs": [],
   "source": [
    "city.set_index('datetime', drop=True, inplace=True)"
   ]
  },
  {
   "cell_type": "code",
   "execution_count": 180,
   "metadata": {
    "collapsed": true
   },
   "outputs": [],
   "source": [
    "city = city.rename(columns={ 'mean_surge_multipler' : 'mean_surge_multiplier' })"
   ]
  },
  {
   "cell_type": "code",
   "execution_count": 181,
   "metadata": {
    "collapsed": true
   },
   "outputs": [],
   "source": [
    "city['dow'] = city.index.day_name()"
   ]
  },
  {
   "cell_type": "code",
   "execution_count": 182,
   "metadata": {
    "collapsed": true
   },
   "outputs": [],
   "source": [
    "city['hour'] = city.index.hour"
   ]
  },
  {
   "cell_type": "code",
   "execution_count": 183,
   "metadata": {
    "collapsed": true
   },
   "outputs": [],
   "source": [
    "city['trips_per_supply_hour'] = city['trips']/city['supply_hours']"
   ]
  },
  {
   "cell_type": "code",
   "execution_count": 184,
   "metadata": {},
   "outputs": [
    {
     "data": {
      "text/html": [
       "<div>\n",
       "<style scoped>\n",
       "    .dataframe tbody tr th:only-of-type {\n",
       "        vertical-align: middle;\n",
       "    }\n",
       "\n",
       "    .dataframe tbody tr th {\n",
       "        vertical-align: top;\n",
       "    }\n",
       "\n",
       "    .dataframe thead th {\n",
       "        text-align: right;\n",
       "    }\n",
       "</style>\n",
       "<table border=\"1\" class=\"dataframe\">\n",
       "  <thead>\n",
       "    <tr style=\"text-align: right;\">\n",
       "      <th></th>\n",
       "      <th>requests</th>\n",
       "      <th>trips</th>\n",
       "      <th>supply_hours</th>\n",
       "      <th>mean_surge_multiplier</th>\n",
       "      <th>hour</th>\n",
       "      <th>trips_per_supply_hour</th>\n",
       "    </tr>\n",
       "  </thead>\n",
       "  <tbody>\n",
       "    <tr>\n",
       "      <th>count</th>\n",
       "      <td>672.000000</td>\n",
       "      <td>672.000000</td>\n",
       "      <td>672.000000</td>\n",
       "      <td>672.000000</td>\n",
       "      <td>672.000000</td>\n",
       "      <td>671.000000</td>\n",
       "    </tr>\n",
       "    <tr>\n",
       "      <th>mean</th>\n",
       "      <td>115.556548</td>\n",
       "      <td>98.119048</td>\n",
       "      <td>48.387798</td>\n",
       "      <td>1.110461</td>\n",
       "      <td>11.500000</td>\n",
       "      <td>1.944071</td>\n",
       "    </tr>\n",
       "    <tr>\n",
       "      <th>std</th>\n",
       "      <td>72.231308</td>\n",
       "      <td>60.410993</td>\n",
       "      <td>27.730596</td>\n",
       "      <td>0.123787</td>\n",
       "      <td>6.927343</td>\n",
       "      <td>0.265146</td>\n",
       "    </tr>\n",
       "    <tr>\n",
       "      <th>min</th>\n",
       "      <td>0.000000</td>\n",
       "      <td>0.000000</td>\n",
       "      <td>0.000000</td>\n",
       "      <td>1.000000</td>\n",
       "      <td>0.000000</td>\n",
       "      <td>1.176471</td>\n",
       "    </tr>\n",
       "    <tr>\n",
       "      <th>25%</th>\n",
       "      <td>48.000000</td>\n",
       "      <td>41.000000</td>\n",
       "      <td>21.825000</td>\n",
       "      <td>1.020000</td>\n",
       "      <td>5.750000</td>\n",
       "      <td>1.780463</td>\n",
       "    </tr>\n",
       "    <tr>\n",
       "      <th>50%</th>\n",
       "      <td>117.000000</td>\n",
       "      <td>101.500000</td>\n",
       "      <td>51.900000</td>\n",
       "      <td>1.070000</td>\n",
       "      <td>11.500000</td>\n",
       "      <td>1.927570</td>\n",
       "    </tr>\n",
       "    <tr>\n",
       "      <th>75%</th>\n",
       "      <td>162.000000</td>\n",
       "      <td>137.000000</td>\n",
       "      <td>68.025000</td>\n",
       "      <td>1.170000</td>\n",
       "      <td>17.250000</td>\n",
       "      <td>2.133741</td>\n",
       "    </tr>\n",
       "    <tr>\n",
       "      <th>max</th>\n",
       "      <td>350.000000</td>\n",
       "      <td>291.000000</td>\n",
       "      <td>120.400000</td>\n",
       "      <td>2.160000</td>\n",
       "      <td>23.000000</td>\n",
       "      <td>2.558747</td>\n",
       "    </tr>\n",
       "  </tbody>\n",
       "</table>\n",
       "</div>"
      ],
      "text/plain": [
       "         requests       trips  supply_hours  mean_surge_multiplier  \\\n",
       "count  672.000000  672.000000    672.000000             672.000000   \n",
       "mean   115.556548   98.119048     48.387798               1.110461   \n",
       "std     72.231308   60.410993     27.730596               0.123787   \n",
       "min      0.000000    0.000000      0.000000               1.000000   \n",
       "25%     48.000000   41.000000     21.825000               1.020000   \n",
       "50%    117.000000  101.500000     51.900000               1.070000   \n",
       "75%    162.000000  137.000000     68.025000               1.170000   \n",
       "max    350.000000  291.000000    120.400000               2.160000   \n",
       "\n",
       "             hour  trips_per_supply_hour  \n",
       "count  672.000000             671.000000  \n",
       "mean    11.500000               1.944071  \n",
       "std      6.927343               0.265146  \n",
       "min      0.000000               1.176471  \n",
       "25%      5.750000               1.780463  \n",
       "50%     11.500000               1.927570  \n",
       "75%     17.250000               2.133741  \n",
       "max     23.000000               2.558747  "
      ]
     },
     "execution_count": 184,
     "metadata": {},
     "output_type": "execute_result"
    }
   ],
   "source": [
    "city.describe()"
   ]
  },
  {
   "cell_type": "code",
   "execution_count": 194,
   "metadata": {
    "collapsed": true
   },
   "outputs": [],
   "source": [
    "city['trips_per_request'] = city['trips']/city['requests']                     "
   ]
  },
  {
   "cell_type": "code",
   "execution_count": 195,
   "metadata": {},
   "outputs": [
    {
     "data": {
      "text/plain": [
       "<matplotlib.axes._subplots.AxesSubplot at 0x1256a86a0>"
      ]
     },
     "execution_count": 195,
     "metadata": {},
     "output_type": "execute_result"
    },
    {
     "data": {
      "image/png": "[encoded data removed]",
      "text/plain": [
       "<matplotlib.figure.Figure at 0x1256b39e8>"
      ]
     },
     "metadata": {},
     "output_type": "display_data"
    }
   ],
   "source": [
    "city.plot(y='trips_per_request')"
   ]
  },
  {
   "cell_type": "code",
   "execution_count": null,
   "metadata": {
    "collapsed": true
   },
   "outputs": [],
   "source": [
    "# Difference between trips and requests, as percentage total trips sfsfffffasfadarequests\n",
    "trip_deficit = (city['requests'] - city['trips'])/city['requests']             "
   ]
  },
  {
   "cell_type": "code",
   "execution_count": null,
   "metadata": {
    "collapsed": true
   },
   "outputs": [],
   "source": [
    "weekdays = [ 'Monday', 'Tuesday', 'Wednesday', 'Thursday', 'Friday' ]"
   ]
  },
  {
   "cell_type": "code",
   "execution_count": 186,
   "metadata": {
    "collapsed": true
   },
   "outputs": [],
   "source": [
    "city_weekdays = city.loc[ city['dow'].isin( weekdays ) ]"
   ]
  },
  {
   "cell_type": "code",
   "execution_count": 187,
   "metadata": {
    "collapsed": true
   },
   "outputs": [],
   "source": [
    "weekday_by_hour = city_weekdays.groupby( city_weekdays['hour'] ).mean()"
   ]
  },
  {
   "cell_type": "code",
   "execution_count": 188,
   "metadata": {},
   "outputs": [
    {
     "data": {
      "text/plain": [
       "<matplotlib.axes._subplots.AxesSubplot at 0x1251d51d0>"
      ]
     },
     "execution_count": 188,
     "metadata": {},
     "output_type": "execute_result"
    },
    {
     "data": {
      "image/png": "[encoded data removed]",
      "text/plain": [
       "<matplotlib.figure.Figure at 0x11a7292e8>"
      ]
     },
     "metadata": {},
     "output_type": "display_data"
    }
   ],
   "source": [
    "weekday_by_hour.plot(y=['requests', 'trips'])"
   ]
  },
  {
   "cell_type": "markdown",
   "metadata": {},
   "source": [
    "Morning weekday rush hour: 8-9\n",
    "\n",
    "Evening weekday rush hour: 17-20"
   ]
  },
  {
   "cell_type": "code",
   "execution_count": 257,
   "metadata": {
    "collapsed": true
   },
   "outputs": [],
   "source": [
    "# Let's add a rush_hour flag to the trips table. \n",
    "trips['hour'] = trips.request_time.dt.hour"
   ]
  },
  {
   "cell_type": "code",
   "execution_count": 258,
   "metadata": {
    "collapsed": true
   },
   "outputs": [],
   "source": [
    "rush_hours = [ 7, 8, 17, 18, 19, 20 ] \n",
    "trips['is_rush_hour'] = ( trips.hour.isin(rush_hours)) & ( trips.dow.isin(weekdays) )"
   ]
  },
  {
   "cell_type": "code",
   "execution_count": 263,
   "metadata": {},
   "outputs": [
    {
     "data": {
      "text/html": [
       "<div>\n",
       "<style scoped>\n",
       "    .dataframe tbody tr th:only-of-type {\n",
       "        vertical-align: middle;\n",
       "    }\n",
       "\n",
       "    .dataframe tbody tr th {\n",
       "        vertical-align: top;\n",
       "    }\n",
       "\n",
       "    .dataframe thead th {\n",
       "        text-align: right;\n",
       "    }\n",
       "</style>\n",
       "<table border=\"1\" class=\"dataframe\">\n",
       "  <thead>\n",
       "    <tr style=\"text-align: right;\">\n",
       "      <th></th>\n",
       "      <th>estimated_time_to_arrival</th>\n",
       "      <th>trip_price_pre_discount</th>\n",
       "      <th>rider_payment</th>\n",
       "      <th>actual_time_to_arrival</th>\n",
       "      <th>driver payout</th>\n",
       "      <th>surge_multiplier</th>\n",
       "      <th>is_rush_hour</th>\n",
       "    </tr>\n",
       "    <tr>\n",
       "      <th>hour</th>\n",
       "      <th></th>\n",
       "      <th></th>\n",
       "      <th></th>\n",
       "      <th></th>\n",
       "      <th></th>\n",
       "      <th></th>\n",
       "      <th></th>\n",
       "    </tr>\n",
       "  </thead>\n",
       "  <tbody>\n",
       "    <tr>\n",
       "      <th>0</th>\n",
       "      <td>2.745841</td>\n",
       "      <td>6.654737</td>\n",
       "      <td>6.645900</td>\n",
       "      <td>2.212120</td>\n",
       "      <td>5.332353</td>\n",
       "      <td>1.067974</td>\n",
       "      <td>0.000000</td>\n",
       "    </tr>\n",
       "    <tr>\n",
       "      <th>1</th>\n",
       "      <td>2.924242</td>\n",
       "      <td>6.292009</td>\n",
       "      <td>6.281470</td>\n",
       "      <td>2.322167</td>\n",
       "      <td>5.045614</td>\n",
       "      <td>1.069604</td>\n",
       "      <td>0.000000</td>\n",
       "    </tr>\n",
       "    <tr>\n",
       "      <th>2</th>\n",
       "      <td>3.631846</td>\n",
       "      <td>7.667501</td>\n",
       "      <td>7.641982</td>\n",
       "      <td>2.852436</td>\n",
       "      <td>6.134608</td>\n",
       "      <td>1.410829</td>\n",
       "      <td>0.000000</td>\n",
       "    </tr>\n",
       "    <tr>\n",
       "      <th>3</th>\n",
       "      <td>3.833140</td>\n",
       "      <td>7.172484</td>\n",
       "      <td>7.165733</td>\n",
       "      <td>3.233788</td>\n",
       "      <td>5.764437</td>\n",
       "      <td>1.341480</td>\n",
       "      <td>0.000000</td>\n",
       "    </tr>\n",
       "    <tr>\n",
       "      <th>4</th>\n",
       "      <td>4.390190</td>\n",
       "      <td>7.648604</td>\n",
       "      <td>7.546332</td>\n",
       "      <td>3.660166</td>\n",
       "      <td>6.148199</td>\n",
       "      <td>1.343868</td>\n",
       "      <td>0.000000</td>\n",
       "    </tr>\n",
       "    <tr>\n",
       "      <th>5</th>\n",
       "      <td>4.046857</td>\n",
       "      <td>6.974011</td>\n",
       "      <td>6.928032</td>\n",
       "      <td>3.366386</td>\n",
       "      <td>5.627236</td>\n",
       "      <td>1.274011</td>\n",
       "      <td>0.000000</td>\n",
       "    </tr>\n",
       "    <tr>\n",
       "      <th>6</th>\n",
       "      <td>3.682750</td>\n",
       "      <td>7.621209</td>\n",
       "      <td>7.592815</td>\n",
       "      <td>3.101544</td>\n",
       "      <td>6.145176</td>\n",
       "      <td>1.207004</td>\n",
       "      <td>0.000000</td>\n",
       "    </tr>\n",
       "    <tr>\n",
       "      <th>7</th>\n",
       "      <td>2.964728</td>\n",
       "      <td>7.064279</td>\n",
       "      <td>7.040481</td>\n",
       "      <td>2.494567</td>\n",
       "      <td>5.668118</td>\n",
       "      <td>1.104270</td>\n",
       "      <td>0.871910</td>\n",
       "    </tr>\n",
       "    <tr>\n",
       "      <th>8</th>\n",
       "      <td>3.534471</td>\n",
       "      <td>7.713931</td>\n",
       "      <td>7.602675</td>\n",
       "      <td>2.997067</td>\n",
       "      <td>6.180345</td>\n",
       "      <td>1.295911</td>\n",
       "      <td>0.871234</td>\n",
       "    </tr>\n",
       "    <tr>\n",
       "      <th>9</th>\n",
       "      <td>3.407209</td>\n",
       "      <td>7.244120</td>\n",
       "      <td>7.191873</td>\n",
       "      <td>2.855436</td>\n",
       "      <td>5.804343</td>\n",
       "      <td>1.196300</td>\n",
       "      <td>0.000000</td>\n",
       "    </tr>\n",
       "    <tr>\n",
       "      <th>10</th>\n",
       "      <td>3.022857</td>\n",
       "      <td>7.112003</td>\n",
       "      <td>7.104965</td>\n",
       "      <td>2.477358</td>\n",
       "      <td>5.704254</td>\n",
       "      <td>1.109975</td>\n",
       "      <td>0.000000</td>\n",
       "    </tr>\n",
       "    <tr>\n",
       "      <th>11</th>\n",
       "      <td>3.099550</td>\n",
       "      <td>7.838192</td>\n",
       "      <td>7.819228</td>\n",
       "      <td>2.593167</td>\n",
       "      <td>6.280103</td>\n",
       "      <td>1.105037</td>\n",
       "      <td>0.000000</td>\n",
       "    </tr>\n",
       "    <tr>\n",
       "      <th>12</th>\n",
       "      <td>3.422291</td>\n",
       "      <td>8.205546</td>\n",
       "      <td>8.189983</td>\n",
       "      <td>2.766935</td>\n",
       "      <td>6.585148</td>\n",
       "      <td>1.159918</td>\n",
       "      <td>0.000000</td>\n",
       "    </tr>\n",
       "    <tr>\n",
       "      <th>13</th>\n",
       "      <td>3.280995</td>\n",
       "      <td>7.950570</td>\n",
       "      <td>7.909442</td>\n",
       "      <td>2.719530</td>\n",
       "      <td>6.372216</td>\n",
       "      <td>1.139080</td>\n",
       "      <td>0.000000</td>\n",
       "    </tr>\n",
       "    <tr>\n",
       "      <th>14</th>\n",
       "      <td>3.359091</td>\n",
       "      <td>7.750471</td>\n",
       "      <td>7.694320</td>\n",
       "      <td>2.818132</td>\n",
       "      <td>6.212056</td>\n",
       "      <td>1.164587</td>\n",
       "      <td>0.000000</td>\n",
       "    </tr>\n",
       "    <tr>\n",
       "      <th>15</th>\n",
       "      <td>3.619571</td>\n",
       "      <td>7.936591</td>\n",
       "      <td>7.837983</td>\n",
       "      <td>3.049351</td>\n",
       "      <td>6.376142</td>\n",
       "      <td>1.273405</td>\n",
       "      <td>0.000000</td>\n",
       "    </tr>\n",
       "    <tr>\n",
       "      <th>16</th>\n",
       "      <td>3.810064</td>\n",
       "      <td>7.871821</td>\n",
       "      <td>7.768871</td>\n",
       "      <td>3.216857</td>\n",
       "      <td>6.303652</td>\n",
       "      <td>1.274191</td>\n",
       "      <td>0.000000</td>\n",
       "    </tr>\n",
       "    <tr>\n",
       "      <th>17</th>\n",
       "      <td>3.866289</td>\n",
       "      <td>8.364998</td>\n",
       "      <td>8.236337</td>\n",
       "      <td>3.211319</td>\n",
       "      <td>6.699162</td>\n",
       "      <td>1.266597</td>\n",
       "      <td>0.707953</td>\n",
       "    </tr>\n",
       "    <tr>\n",
       "      <th>18</th>\n",
       "      <td>3.347199</td>\n",
       "      <td>7.824980</td>\n",
       "      <td>7.784463</td>\n",
       "      <td>2.606672</td>\n",
       "      <td>6.277608</td>\n",
       "      <td>1.118759</td>\n",
       "      <td>0.695771</td>\n",
       "    </tr>\n",
       "    <tr>\n",
       "      <th>19</th>\n",
       "      <td>3.028633</td>\n",
       "      <td>7.546825</td>\n",
       "      <td>7.534950</td>\n",
       "      <td>2.413471</td>\n",
       "      <td>6.050326</td>\n",
       "      <td>1.030730</td>\n",
       "      <td>0.711726</td>\n",
       "    </tr>\n",
       "    <tr>\n",
       "      <th>20</th>\n",
       "      <td>3.059976</td>\n",
       "      <td>7.662730</td>\n",
       "      <td>7.621476</td>\n",
       "      <td>2.493980</td>\n",
       "      <td>6.150633</td>\n",
       "      <td>1.096057</td>\n",
       "      <td>0.724741</td>\n",
       "    </tr>\n",
       "    <tr>\n",
       "      <th>21</th>\n",
       "      <td>2.952199</td>\n",
       "      <td>7.257197</td>\n",
       "      <td>7.228360</td>\n",
       "      <td>2.355814</td>\n",
       "      <td>5.818640</td>\n",
       "      <td>1.077400</td>\n",
       "      <td>0.000000</td>\n",
       "    </tr>\n",
       "    <tr>\n",
       "      <th>22</th>\n",
       "      <td>2.855080</td>\n",
       "      <td>7.401185</td>\n",
       "      <td>7.333808</td>\n",
       "      <td>2.284309</td>\n",
       "      <td>5.945944</td>\n",
       "      <td>1.145755</td>\n",
       "      <td>0.000000</td>\n",
       "    </tr>\n",
       "    <tr>\n",
       "      <th>23</th>\n",
       "      <td>2.916751</td>\n",
       "      <td>7.305676</td>\n",
       "      <td>7.247690</td>\n",
       "      <td>2.342149</td>\n",
       "      <td>5.869475</td>\n",
       "      <td>1.178743</td>\n",
       "      <td>0.000000</td>\n",
       "    </tr>\n",
       "  </tbody>\n",
       "</table>\n",
       "</div>"
      ],
      "text/plain": [
       "      estimated_time_to_arrival  trip_price_pre_discount  rider_payment  \\\n",
       "hour                                                                      \n",
       "0                      2.745841                 6.654737       6.645900   \n",
       "1                      2.924242                 6.292009       6.281470   \n",
       "2                      3.631846                 7.667501       7.641982   \n",
       "3                      3.833140                 7.172484       7.165733   \n",
       "4                      4.390190                 7.648604       7.546332   \n",
       "5                      4.046857                 6.974011       6.928032   \n",
       "6                      3.682750                 7.621209       7.592815   \n",
       "7                      2.964728                 7.064279       7.040481   \n",
       "8                      3.534471                 7.713931       7.602675   \n",
       "9                      3.407209                 7.244120       7.191873   \n",
       "10                     3.022857                 7.112003       7.104965   \n",
       "11                     3.099550                 7.838192       7.819228   \n",
       "12                     3.422291                 8.205546       8.189983   \n",
       "13                     3.280995                 7.950570       7.909442   \n",
       "14                     3.359091                 7.750471       7.694320   \n",
       "15                     3.619571                 7.936591       7.837983   \n",
       "16                     3.810064                 7.871821       7.768871   \n",
       "17                     3.866289                 8.364998       8.236337   \n",
       "18                     3.347199                 7.824980       7.784463   \n",
       "19                     3.028633                 7.546825       7.534950   \n",
       "20                     3.059976                 7.662730       7.621476   \n",
       "21                     2.952199                 7.257197       7.228360   \n",
       "22                     2.855080                 7.401185       7.333808   \n",
       "23                     2.916751                 7.305676       7.247690   \n",
       "\n",
       "      actual_time_to_arrival  driver payout  surge_multiplier  is_rush_hour  \n",
       "hour                                                                         \n",
       "0                   2.212120       5.332353          1.067974      0.000000  \n",
       "1                   2.322167       5.045614          1.069604      0.000000  \n",
       "2                   2.852436       6.134608          1.410829      0.000000  \n",
       "3                   3.233788       5.764437          1.341480      0.000000  \n",
       "4                   3.660166       6.148199          1.343868      0.000000  \n",
       "5                   3.366386       5.627236          1.274011      0.000000  \n",
       "6                   3.101544       6.145176          1.207004      0.000000  \n",
       "7                   2.494567       5.668118          1.104270      0.871910  \n",
       "8                   2.997067       6.180345          1.295911      0.871234  \n",
       "9                   2.855436       5.804343          1.196300      0.000000  \n",
       "10                  2.477358       5.704254          1.109975      0.000000  \n",
       "11                  2.593167       6.280103          1.105037      0.000000  \n",
       "12                  2.766935       6.585148          1.159918      0.000000  \n",
       "13                  2.719530       6.372216          1.139080      0.000000  \n",
       "14                  2.818132       6.212056          1.164587      0.000000  \n",
       "15                  3.049351       6.376142          1.273405      0.000000  \n",
       "16                  3.216857       6.303652          1.274191      0.000000  \n",
       "17                  3.211319       6.699162          1.266597      0.707953  \n",
       "18                  2.606672       6.277608          1.118759      0.695771  \n",
       "19                  2.413471       6.050326          1.030730      0.711726  \n",
       "20                  2.493980       6.150633          1.096057      0.724741  \n",
       "21                  2.355814       5.818640          1.077400      0.000000  \n",
       "22                  2.284309       5.945944          1.145755      0.000000  \n",
       "23                  2.342149       5.869475          1.178743      0.000000  "
      ]
     },
     "execution_count": 263,
     "metadata": {},
     "output_type": "execute_result"
    }
   ],
   "source": [
    "trips.groupby('hour').mean()"
   ]
  },
  {
   "cell_type": "code",
   "execution_count": null,
   "metadata": {
    "collapsed": true
   },
   "outputs": [],
   "source": []
  },
  {
   "cell_type": "code",
   "execution_count": 191,
   "metadata": {},
   "outputs": [
    {
     "data": {
      "text/plain": [
       "<matplotlib.axes._subplots.AxesSubplot at 0x1250ad668>"
      ]
     },
     "execution_count": 191,
     "metadata": {},
     "output_type": "execute_result"
    },
    {
     "data": {
      "image/png": "[encoded data removed]",
      "text/plain": [
       "<matplotlib.figure.Figure at 0x125400630>"
      ]
     },
     "metadata": {},
     "output_type": "display_data"
    }
   ],
   "source": [
    "weekday_by_hour.plot(y=['supply_hours', 'mean_surge_multiplier'], secondary_y=['mean_surge_multiplier'])"
   ]
  },
  {
   "cell_type": "code",
   "execution_count": 174,
   "metadata": {},
   "outputs": [
    {
     "data": {
      "text/plain": [
       "<matplotlib.axes._subplots.AxesSubplot at 0x124da02b0>"
      ]
     },
     "execution_count": 174,
     "metadata": {},
     "output_type": "execute_result"
    },
    {
     "data": {
      "image/png": "[encoded data removed]",
      "text/plain": [
       "<matplotlib.figure.Figure at 0x124ce30f0>"
      ]
     },
     "metadata": {},
     "output_type": "display_data"
    }
   ],
   "source": [
    "weekday_by_hour.plot(x='requests', y='mean_surge_multipler', kind='scatter')"
   ]
  },
  {
   "cell_type": "code",
   "execution_count": 193,
   "metadata": {},
   "outputs": [
    {
     "data": {
      "text/plain": [
       "<matplotlib.axes._subplots.AxesSubplot at 0x1255442b0>"
      ]
     },
     "execution_count": 193,
     "metadata": {},
     "output_type": "execute_result"
    },
    {
     "data": {
      "image/png": "[encoded data removed]",
      "text/plain": [
       "<matplotlib.figure.Figure at 0x12552e0b8>"
      ]
     },
     "metadata": {},
     "output_type": "display_data"
    }
   ],
   "source": [
    "weekday_by_hour.plot( y=['trips_per_supply_hour', 'mean_surge_multiplier'], secondary_y=['mean_surge_multiplier'] )"
   ]
  },
  {
   "cell_type": "code",
   "execution_count": 196,
   "metadata": {},
   "outputs": [
    {
     "data": {
      "text/plain": [
       "completed         54138\n",
       "rider_canceled     5777\n",
       "failed               49\n",
       "unfulfilled          34\n",
       "Name: trip_status, dtype: int64"
      ]
     },
     "execution_count": 196,
     "metadata": {},
     "output_type": "execute_result"
    }
   ],
   "source": [
    "trips.trip_status.value_counts()"
   ]
  },
  {
   "cell_type": "code",
   "execution_count": null,
   "metadata": {
    "collapsed": true
   },
   "outputs": [],
   "source": []
  },
  {
   "cell_type": "code",
   "execution_count": 185,
   "metadata": {},
   "outputs": [
    {
     "data": {
      "text/plain": [
       "<matplotlib.axes._subplots.AxesSubplot at 0x1250b7278>"
      ]
     },
     "execution_count": 185,
     "metadata": {},
     "output_type": "execute_result"
    },
    {
     "data": {
      "image/png": "[encoded data removed]",
      "text/plain": [
       "<matplotlib.figure.Figure at 0x1250b6630>"
      ]
     },
     "metadata": {},
     "output_type": "display_data"
    }
   ],
   "source": [
    "city.plot(y=['requests', 'trips'])"
   ]
  },
  {
   "cell_type": "code",
   "execution_count": null,
   "metadata": {
    "collapsed": true
   },
   "outputs": [],
   "source": []
  },
  {
   "cell_type": "code",
   "execution_count": null,
   "metadata": {
    "collapsed": true
   },
   "outputs": [],
   "source": []
  },
  {
   "cell_type": "code",
   "execution_count": null,
   "metadata": {
    "collapsed": true
   },
   "outputs": [],
   "source": []
  },
  {
   "cell_type": "code",
   "execution_count": null,
   "metadata": {
    "collapsed": true
   },
   "outputs": [],
   "source": []
  },
  {
   "cell_type": "code",
   "execution_count": null,
   "metadata": {
    "collapsed": true
   },
   "outputs": [],
   "source": []
  },
  {
   "cell_type": "code",
   "execution_count": null,
   "metadata": {
    "collapsed": true
   },
   "outputs": [],
   "source": []
  },
  {
   "cell_type": "code",
   "execution_count": null,
   "metadata": {
    "collapsed": true
   },
   "outputs": [],
   "source": []
  },
  {
   "cell_type": "code",
   "execution_count": null,
   "metadata": {
    "collapsed": true
   },
   "outputs": [],
   "source": []
  },
  {
   "cell_type": "code",
   "execution_count": 197,
   "metadata": {
    "collapsed": true
   },
   "outputs": [],
   "source": [
    "unfulfilled = trips.loc[ trips['trip_status'] == \"unfulfilled\" ]"
   ]
  },
  {
   "cell_type": "code",
   "execution_count": 200,
   "metadata": {},
   "outputs": [
    {
     "data": {
      "text/plain": [
       "Chelsea Court    0.672706\n",
       "Allen Abby       0.174889\n",
       "Daisy Drive      0.079536\n",
       "Blair Bend       0.072869\n",
       "Name: start_geo, dtype: float64"
      ]
     },
     "execution_count": 200,
     "metadata": {},
     "output_type": "execute_result"
    }
   ],
   "source": [
    "start_geo_counts = trips['start_geo'].value_counts()/len(trips)\n",
    "start_geo_counts"
   ]
  },
  {
   "cell_type": "code",
   "execution_count": 201,
   "metadata": {},
   "outputs": [
    {
     "data": {
      "text/plain": [
       "Chelsea Court    0.470588\n",
       "Allen Abby       0.264706\n",
       "Daisy Drive      0.147059\n",
       "Blair Bend       0.117647\n",
       "Name: start_geo, dtype: float64"
      ]
     },
     "execution_count": 201,
     "metadata": {},
     "output_type": "execute_result"
    }
   ],
   "source": [
    "unfulfilled['start_geo'].value_counts()/len(unfulfilled)"
   ]
  },
  {
   "cell_type": "code",
   "execution_count": null,
   "metadata": {
    "collapsed": true
   },
   "outputs": [],
   "source": []
  },
  {
   "cell_type": "code",
   "execution_count": null,
   "metadata": {
    "collapsed": true
   },
   "outputs": [],
   "source": []
  },
  {
   "cell_type": "code",
   "execution_count": null,
   "metadata": {
    "collapsed": true
   },
   "outputs": [],
   "source": []
  },
  {
   "cell_type": "code",
   "execution_count": null,
   "metadata": {
    "collapsed": true
   },
   "outputs": [],
   "source": []
  },
  {
   "cell_type": "code",
   "execution_count": null,
   "metadata": {
    "collapsed": true
   },
   "outputs": [],
   "source": []
  },
  {
   "cell_type": "code",
   "execution_count": null,
   "metadata": {
    "collapsed": true
   },
   "outputs": [],
   "source": []
  }
 ],
 "metadata": {
  "kernelspec": {
   "display_name": "Python 3",
   "language": "python",
   "name": "python3"
  },
  "language_info": {
   "codemirror_mode": {
    "name": "ipython",
    "version": 3
   },
   "file_extension": ".py",
   "mimetype": "text/x-python",
   "name": "python",
   "nbconvert_exporter": "python",
   "pygments_lexer": "ipython3",
   "version": "3.6.2"
  }
 },
 "nbformat": 4,
 "nbformat_minor": 2
}
